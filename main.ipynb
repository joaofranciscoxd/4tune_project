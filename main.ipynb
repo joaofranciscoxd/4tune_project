{
 "cells": [
  {
   "attachments": {},
   "cell_type": "markdown",
   "metadata": {},
   "source": [
    "#### Imports and read"
   ]
  },
  {
   "cell_type": "code",
   "execution_count": 1,
   "metadata": {},
   "outputs": [],
   "source": [
    "import pandas as pd\n",
    "import matplotlib.pyplot as plt\n",
    "import numpy as np\n",
    "import datetime"
   ]
  },
  {
   "cell_type": "code",
   "execution_count": 2,
   "metadata": {},
   "outputs": [],
   "source": [
    "data = pd.read_csv('data.csv')"
   ]
  },
  {
   "cell_type": "code",
   "execution_count": 3,
   "metadata": {},
   "outputs": [
    {
     "data": {
      "text/html": [
       "<div>\n",
       "<style scoped>\n",
       "    .dataframe tbody tr th:only-of-type {\n",
       "        vertical-align: middle;\n",
       "    }\n",
       "\n",
       "    .dataframe tbody tr th {\n",
       "        vertical-align: top;\n",
       "    }\n",
       "\n",
       "    .dataframe thead th {\n",
       "        text-align: right;\n",
       "    }\n",
       "</style>\n",
       "<table border=\"1\" class=\"dataframe\">\n",
       "  <thead>\n",
       "    <tr style=\"text-align: right;\">\n",
       "      <th></th>\n",
       "      <th>Unnamed: 0</th>\n",
       "      <th>initial_age</th>\n",
       "      <th>weight</th>\n",
       "      <th>family_kind</th>\n",
       "      <th>race</th>\n",
       "      <th>marital_status</th>\n",
       "      <th>accumulated_capital</th>\n",
       "      <th>annual_contribution</th>\n",
       "      <th>income</th>\n",
       "    </tr>\n",
       "  </thead>\n",
       "  <tbody>\n",
       "    <tr>\n",
       "      <th>0</th>\n",
       "      <td>0</td>\n",
       "      <td>57</td>\n",
       "      <td>616</td>\n",
       "      <td>2</td>\n",
       "      <td>1</td>\n",
       "      <td>3</td>\n",
       "      <td>-153263.200759</td>\n",
       "      <td>0.23</td>\n",
       "      <td>42658.02</td>\n",
       "    </tr>\n",
       "    <tr>\n",
       "      <th>1</th>\n",
       "      <td>1</td>\n",
       "      <td>45</td>\n",
       "      <td>591</td>\n",
       "      <td>1</td>\n",
       "      <td>1</td>\n",
       "      <td>1</td>\n",
       "      <td>161474.307306</td>\n",
       "      <td>0.24</td>\n",
       "      <td>248327.61</td>\n",
       "    </tr>\n",
       "    <tr>\n",
       "      <th>2</th>\n",
       "      <td>2</td>\n",
       "      <td>59</td>\n",
       "      <td>613</td>\n",
       "      <td>1</td>\n",
       "      <td>1</td>\n",
       "      <td>1</td>\n",
       "      <td>14209.331170</td>\n",
       "      <td>0.09</td>\n",
       "      <td>24371.94</td>\n",
       "    </tr>\n",
       "    <tr>\n",
       "      <th>3</th>\n",
       "      <td>3</td>\n",
       "      <td>62</td>\n",
       "      <td>656</td>\n",
       "      <td>1</td>\n",
       "      <td>1</td>\n",
       "      <td>1</td>\n",
       "      <td>-77270.897162</td>\n",
       "      <td>0.17</td>\n",
       "      <td>48788.04</td>\n",
       "    </tr>\n",
       "    <tr>\n",
       "      <th>4</th>\n",
       "      <td>4</td>\n",
       "      <td>45</td>\n",
       "      <td>567</td>\n",
       "      <td>2</td>\n",
       "      <td>1</td>\n",
       "      <td>5</td>\n",
       "      <td>282353.182490</td>\n",
       "      <td>0.22</td>\n",
       "      <td>47808.66</td>\n",
       "    </tr>\n",
       "  </tbody>\n",
       "</table>\n",
       "</div>"
      ],
      "text/plain": [
       "   Unnamed: 0  initial_age  weight  family_kind  race  marital_status  \\\n",
       "0           0           57     616            2     1               3   \n",
       "1           1           45     591            1     1               1   \n",
       "2           2           59     613            1     1               1   \n",
       "3           3           62     656            1     1               1   \n",
       "4           4           45     567            2     1               5   \n",
       "\n",
       "   accumulated_capital  annual_contribution     income  \n",
       "0       -153263.200759                 0.23   42658.02  \n",
       "1        161474.307306                 0.24  248327.61  \n",
       "2         14209.331170                 0.09   24371.94  \n",
       "3        -77270.897162                 0.17   48788.04  \n",
       "4        282353.182490                 0.22   47808.66  "
      ]
     },
     "execution_count": 3,
     "metadata": {},
     "output_type": "execute_result"
    }
   ],
   "source": [
    "data.head()"
   ]
  },
  {
   "cell_type": "code",
   "execution_count": 4,
   "metadata": {},
   "outputs": [],
   "source": [
    "del data[data.columns[0]]"
   ]
  },
  {
   "cell_type": "code",
   "execution_count": 5,
   "metadata": {},
   "outputs": [
    {
     "data": {
      "text/html": [
       "<div>\n",
       "<style scoped>\n",
       "    .dataframe tbody tr th:only-of-type {\n",
       "        vertical-align: middle;\n",
       "    }\n",
       "\n",
       "    .dataframe tbody tr th {\n",
       "        vertical-align: top;\n",
       "    }\n",
       "\n",
       "    .dataframe thead th {\n",
       "        text-align: right;\n",
       "    }\n",
       "</style>\n",
       "<table border=\"1\" class=\"dataframe\">\n",
       "  <thead>\n",
       "    <tr style=\"text-align: right;\">\n",
       "      <th></th>\n",
       "      <th>initial_age</th>\n",
       "      <th>weight</th>\n",
       "      <th>family_kind</th>\n",
       "      <th>race</th>\n",
       "      <th>marital_status</th>\n",
       "      <th>accumulated_capital</th>\n",
       "      <th>annual_contribution</th>\n",
       "      <th>income</th>\n",
       "    </tr>\n",
       "  </thead>\n",
       "  <tbody>\n",
       "    <tr>\n",
       "      <th>0</th>\n",
       "      <td>57</td>\n",
       "      <td>616</td>\n",
       "      <td>2</td>\n",
       "      <td>1</td>\n",
       "      <td>3</td>\n",
       "      <td>-153263.200759</td>\n",
       "      <td>0.23</td>\n",
       "      <td>42658.02</td>\n",
       "    </tr>\n",
       "    <tr>\n",
       "      <th>1</th>\n",
       "      <td>45</td>\n",
       "      <td>591</td>\n",
       "      <td>1</td>\n",
       "      <td>1</td>\n",
       "      <td>1</td>\n",
       "      <td>161474.307306</td>\n",
       "      <td>0.24</td>\n",
       "      <td>248327.61</td>\n",
       "    </tr>\n",
       "    <tr>\n",
       "      <th>2</th>\n",
       "      <td>59</td>\n",
       "      <td>613</td>\n",
       "      <td>1</td>\n",
       "      <td>1</td>\n",
       "      <td>1</td>\n",
       "      <td>14209.331170</td>\n",
       "      <td>0.09</td>\n",
       "      <td>24371.94</td>\n",
       "    </tr>\n",
       "    <tr>\n",
       "      <th>3</th>\n",
       "      <td>62</td>\n",
       "      <td>656</td>\n",
       "      <td>1</td>\n",
       "      <td>1</td>\n",
       "      <td>1</td>\n",
       "      <td>-77270.897162</td>\n",
       "      <td>0.17</td>\n",
       "      <td>48788.04</td>\n",
       "    </tr>\n",
       "    <tr>\n",
       "      <th>4</th>\n",
       "      <td>45</td>\n",
       "      <td>567</td>\n",
       "      <td>2</td>\n",
       "      <td>1</td>\n",
       "      <td>5</td>\n",
       "      <td>282353.182490</td>\n",
       "      <td>0.22</td>\n",
       "      <td>47808.66</td>\n",
       "    </tr>\n",
       "  </tbody>\n",
       "</table>\n",
       "</div>"
      ],
      "text/plain": [
       "   initial_age  weight  family_kind  race  marital_status  \\\n",
       "0           57     616            2     1               3   \n",
       "1           45     591            1     1               1   \n",
       "2           59     613            1     1               1   \n",
       "3           62     656            1     1               1   \n",
       "4           45     567            2     1               5   \n",
       "\n",
       "   accumulated_capital  annual_contribution     income  \n",
       "0       -153263.200759                 0.23   42658.02  \n",
       "1        161474.307306                 0.24  248327.61  \n",
       "2         14209.331170                 0.09   24371.94  \n",
       "3        -77270.897162                 0.17   48788.04  \n",
       "4        282353.182490                 0.22   47808.66  "
      ]
     },
     "execution_count": 5,
     "metadata": {},
     "output_type": "execute_result"
    }
   ],
   "source": [
    "data.head()"
   ]
  },
  {
   "attachments": {},
   "cell_type": "markdown",
   "metadata": {},
   "source": [
    "#### Calculate the New Accumulated Capital"
   ]
  },
  {
   "cell_type": "code",
   "execution_count": 6,
   "metadata": {},
   "outputs": [],
   "source": [
    "additional_savings = 0.5 * 10000"
   ]
  },
  {
   "cell_type": "code",
   "execution_count": 7,
   "metadata": {},
   "outputs": [],
   "source": [
    "data['new_accumulated_capital'] = data['accumulated_capital'] + additional_savings"
   ]
  },
  {
   "cell_type": "code",
   "execution_count": 8,
   "metadata": {},
   "outputs": [
    {
     "data": {
      "text/html": [
       "<div>\n",
       "<style scoped>\n",
       "    .dataframe tbody tr th:only-of-type {\n",
       "        vertical-align: middle;\n",
       "    }\n",
       "\n",
       "    .dataframe tbody tr th {\n",
       "        vertical-align: top;\n",
       "    }\n",
       "\n",
       "    .dataframe thead th {\n",
       "        text-align: right;\n",
       "    }\n",
       "</style>\n",
       "<table border=\"1\" class=\"dataframe\">\n",
       "  <thead>\n",
       "    <tr style=\"text-align: right;\">\n",
       "      <th></th>\n",
       "      <th>initial_age</th>\n",
       "      <th>weight</th>\n",
       "      <th>family_kind</th>\n",
       "      <th>race</th>\n",
       "      <th>marital_status</th>\n",
       "      <th>accumulated_capital</th>\n",
       "      <th>annual_contribution</th>\n",
       "      <th>income</th>\n",
       "      <th>new_accumulated_capital</th>\n",
       "    </tr>\n",
       "  </thead>\n",
       "  <tbody>\n",
       "    <tr>\n",
       "      <th>0</th>\n",
       "      <td>57</td>\n",
       "      <td>616</td>\n",
       "      <td>2</td>\n",
       "      <td>1</td>\n",
       "      <td>3</td>\n",
       "      <td>-153263.200759</td>\n",
       "      <td>0.23</td>\n",
       "      <td>42658.02</td>\n",
       "      <td>-148263.200759</td>\n",
       "    </tr>\n",
       "    <tr>\n",
       "      <th>1</th>\n",
       "      <td>45</td>\n",
       "      <td>591</td>\n",
       "      <td>1</td>\n",
       "      <td>1</td>\n",
       "      <td>1</td>\n",
       "      <td>161474.307306</td>\n",
       "      <td>0.24</td>\n",
       "      <td>248327.61</td>\n",
       "      <td>166474.307306</td>\n",
       "    </tr>\n",
       "    <tr>\n",
       "      <th>2</th>\n",
       "      <td>59</td>\n",
       "      <td>613</td>\n",
       "      <td>1</td>\n",
       "      <td>1</td>\n",
       "      <td>1</td>\n",
       "      <td>14209.331170</td>\n",
       "      <td>0.09</td>\n",
       "      <td>24371.94</td>\n",
       "      <td>19209.331170</td>\n",
       "    </tr>\n",
       "    <tr>\n",
       "      <th>3</th>\n",
       "      <td>62</td>\n",
       "      <td>656</td>\n",
       "      <td>1</td>\n",
       "      <td>1</td>\n",
       "      <td>1</td>\n",
       "      <td>-77270.897162</td>\n",
       "      <td>0.17</td>\n",
       "      <td>48788.04</td>\n",
       "      <td>-72270.897162</td>\n",
       "    </tr>\n",
       "    <tr>\n",
       "      <th>4</th>\n",
       "      <td>45</td>\n",
       "      <td>567</td>\n",
       "      <td>2</td>\n",
       "      <td>1</td>\n",
       "      <td>5</td>\n",
       "      <td>282353.182490</td>\n",
       "      <td>0.22</td>\n",
       "      <td>47808.66</td>\n",
       "      <td>287353.182490</td>\n",
       "    </tr>\n",
       "  </tbody>\n",
       "</table>\n",
       "</div>"
      ],
      "text/plain": [
       "   initial_age  weight  family_kind  race  marital_status  \\\n",
       "0           57     616            2     1               3   \n",
       "1           45     591            1     1               1   \n",
       "2           59     613            1     1               1   \n",
       "3           62     656            1     1               1   \n",
       "4           45     567            2     1               5   \n",
       "\n",
       "   accumulated_capital  annual_contribution     income  \\\n",
       "0       -153263.200759                 0.23   42658.02   \n",
       "1        161474.307306                 0.24  248327.61   \n",
       "2         14209.331170                 0.09   24371.94   \n",
       "3        -77270.897162                 0.17   48788.04   \n",
       "4        282353.182490                 0.22   47808.66   \n",
       "\n",
       "   new_accumulated_capital  \n",
       "0           -148263.200759  \n",
       "1            166474.307306  \n",
       "2             19209.331170  \n",
       "3            -72270.897162  \n",
       "4            287353.182490  "
      ]
     },
     "execution_count": 8,
     "metadata": {},
     "output_type": "execute_result"
    }
   ],
   "source": [
    "data.head()"
   ]
  },
  {
   "attachments": {},
   "cell_type": "markdown",
   "metadata": {},
   "source": [
    "#### Adjust Income for Inflation"
   ]
  },
  {
   "cell_type": "code",
   "execution_count": 9,
   "metadata": {},
   "outputs": [
    {
     "data": {
      "text/plain": [
       "2023"
      ]
     },
     "execution_count": 9,
     "metadata": {},
     "output_type": "execute_result"
    }
   ],
   "source": [
    "current_year = datetime.datetime.now().year\n",
    "current_year"
   ]
  },
  {
   "cell_type": "code",
   "execution_count": 10,
   "metadata": {},
   "outputs": [
    {
     "data": {
      "text/plain": [
       "0.044"
      ]
     },
     "execution_count": 10,
     "metadata": {},
     "output_type": "execute_result"
    }
   ],
   "source": [
    "inflation_rate = round(4.4 / 100,4)\n",
    "inflation_rate "
   ]
  },
  {
   "cell_type": "code",
   "execution_count": 11,
   "metadata": {},
   "outputs": [],
   "source": [
    "data['adjusted_income'] = data['income'].copy()\n",
    "\n",
    "for year in range(2020, current_year + 1):\n",
    "    data['adjusted_income'] = data['adjusted_income'] * (1 + inflation_rate)"
   ]
  },
  {
   "cell_type": "code",
   "execution_count": 12,
   "metadata": {},
   "outputs": [
    {
     "data": {
      "text/html": [
       "<div>\n",
       "<style scoped>\n",
       "    .dataframe tbody tr th:only-of-type {\n",
       "        vertical-align: middle;\n",
       "    }\n",
       "\n",
       "    .dataframe tbody tr th {\n",
       "        vertical-align: top;\n",
       "    }\n",
       "\n",
       "    .dataframe thead th {\n",
       "        text-align: right;\n",
       "    }\n",
       "</style>\n",
       "<table border=\"1\" class=\"dataframe\">\n",
       "  <thead>\n",
       "    <tr style=\"text-align: right;\">\n",
       "      <th></th>\n",
       "      <th>initial_age</th>\n",
       "      <th>weight</th>\n",
       "      <th>family_kind</th>\n",
       "      <th>race</th>\n",
       "      <th>marital_status</th>\n",
       "      <th>accumulated_capital</th>\n",
       "      <th>annual_contribution</th>\n",
       "      <th>income</th>\n",
       "      <th>new_accumulated_capital</th>\n",
       "      <th>adjusted_income</th>\n",
       "    </tr>\n",
       "  </thead>\n",
       "  <tbody>\n",
       "    <tr>\n",
       "      <th>0</th>\n",
       "      <td>57</td>\n",
       "      <td>616</td>\n",
       "      <td>2</td>\n",
       "      <td>1</td>\n",
       "      <td>3</td>\n",
       "      <td>-153263.200759</td>\n",
       "      <td>0.23</td>\n",
       "      <td>42658.02</td>\n",
       "      <td>-148263.200759</td>\n",
       "      <td>50676.042090</td>\n",
       "    </tr>\n",
       "    <tr>\n",
       "      <th>1</th>\n",
       "      <td>45</td>\n",
       "      <td>591</td>\n",
       "      <td>1</td>\n",
       "      <td>1</td>\n",
       "      <td>1</td>\n",
       "      <td>161474.307306</td>\n",
       "      <td>0.24</td>\n",
       "      <td>248327.61</td>\n",
       "      <td>166474.307306</td>\n",
       "      <td>295003.387790</td>\n",
       "    </tr>\n",
       "    <tr>\n",
       "      <th>2</th>\n",
       "      <td>59</td>\n",
       "      <td>613</td>\n",
       "      <td>1</td>\n",
       "      <td>1</td>\n",
       "      <td>1</td>\n",
       "      <td>14209.331170</td>\n",
       "      <td>0.09</td>\n",
       "      <td>24371.94</td>\n",
       "      <td>19209.331170</td>\n",
       "      <td>28952.901641</td>\n",
       "    </tr>\n",
       "    <tr>\n",
       "      <th>3</th>\n",
       "      <td>62</td>\n",
       "      <td>656</td>\n",
       "      <td>1</td>\n",
       "      <td>1</td>\n",
       "      <td>1</td>\n",
       "      <td>-77270.897162</td>\n",
       "      <td>0.17</td>\n",
       "      <td>48788.04</td>\n",
       "      <td>-72270.897162</td>\n",
       "      <td>57958.263616</td>\n",
       "    </tr>\n",
       "    <tr>\n",
       "      <th>4</th>\n",
       "      <td>45</td>\n",
       "      <td>567</td>\n",
       "      <td>2</td>\n",
       "      <td>1</td>\n",
       "      <td>5</td>\n",
       "      <td>282353.182490</td>\n",
       "      <td>0.22</td>\n",
       "      <td>47808.66</td>\n",
       "      <td>287353.182490</td>\n",
       "      <td>56794.798878</td>\n",
       "    </tr>\n",
       "  </tbody>\n",
       "</table>\n",
       "</div>"
      ],
      "text/plain": [
       "   initial_age  weight  family_kind  race  marital_status  \\\n",
       "0           57     616            2     1               3   \n",
       "1           45     591            1     1               1   \n",
       "2           59     613            1     1               1   \n",
       "3           62     656            1     1               1   \n",
       "4           45     567            2     1               5   \n",
       "\n",
       "   accumulated_capital  annual_contribution     income  \\\n",
       "0       -153263.200759                 0.23   42658.02   \n",
       "1        161474.307306                 0.24  248327.61   \n",
       "2         14209.331170                 0.09   24371.94   \n",
       "3        -77270.897162                 0.17   48788.04   \n",
       "4        282353.182490                 0.22   47808.66   \n",
       "\n",
       "   new_accumulated_capital  adjusted_income  \n",
       "0           -148263.200759     50676.042090  \n",
       "1            166474.307306    295003.387790  \n",
       "2             19209.331170     28952.901641  \n",
       "3            -72270.897162     57958.263616  \n",
       "4            287353.182490     56794.798878  "
      ]
     },
     "execution_count": 12,
     "metadata": {},
     "output_type": "execute_result"
    }
   ],
   "source": [
    "data.head()"
   ]
  },
  {
   "attachments": {},
   "cell_type": "markdown",
   "metadata": {},
   "source": [
    "#### Calculate Retirement Readiness Rating"
   ]
  },
  {
   "cell_type": "code",
   "execution_count": 13,
   "metadata": {},
   "outputs": [
    {
     "data": {
      "text/plain": [
       "47626"
      ]
     },
     "execution_count": 13,
     "metadata": {},
     "output_type": "execute_result"
    }
   ],
   "source": [
    "len(data)"
   ]
  },
  {
   "cell_type": "code",
   "execution_count": 14,
   "metadata": {},
   "outputs": [
    {
     "data": {
      "text/plain": [
       "28669"
      ]
     },
     "execution_count": 14,
     "metadata": {},
     "output_type": "execute_result"
    }
   ],
   "source": [
    "retirement_ready_count = data[data['new_accumulated_capital'] >= 0].shape[0]\n",
    "retirement_ready_count #count of individuals who were able to afford their retirement"
   ]
  },
  {
   "cell_type": "code",
   "execution_count": 15,
   "metadata": {},
   "outputs": [
    {
     "data": {
      "text/plain": [
       "0.6019611136774031"
      ]
     },
     "execution_count": 15,
     "metadata": {},
     "output_type": "execute_result"
    }
   ],
   "source": [
    "retirement_readiness_rating = retirement_ready_count / data.shape[0]\n",
    "retirement_readiness_rating #ratio of individuals who were able to afford their retirement to the total number of individuals"
   ]
  },
  {
   "attachments": {},
   "cell_type": "markdown",
   "metadata": {},
   "source": [
    "#### Calculate Weighted Average Retirement Savings Shortfall"
   ]
  },
  {
   "cell_type": "code",
   "execution_count": 16,
   "metadata": {},
   "outputs": [],
   "source": [
    "age_cohorts = [35, 39, 40, 44, 45, 49, 50, 54, 55, 59, 60, 64]\n",
    "race_labels = {1:'White', 2:'Black', 3:'Hispanic', 4:'Other'}"
   ]
  },
  {
   "cell_type": "code",
   "execution_count": 17,
   "metadata": {},
   "outputs": [],
   "source": [
    "data['retirement_savings_shortfall'] = data.apply(lambda row: row['accumulated_capital'] if row['accumulated_capital'] < 0 else 0, axis=1)"
   ]
  },
  {
   "cell_type": "code",
   "execution_count": 18,
   "metadata": {},
   "outputs": [],
   "source": [
    "# def calculate_retirement_savings_shortfall(row):\n",
    "#     if row['accumulated_capital'] < 0:\n",
    "#         return row['accumulated_capital']\n",
    "#     return 0"
   ]
  },
  {
   "cell_type": "code",
   "execution_count": 19,
   "metadata": {},
   "outputs": [],
   "source": [
    "# # Indicates how far a person is behind the amount needed to guarantee a comfortable retirement\n",
    "# data['retirement_savings_shortfall'] = data.apply(calculate_retirement_savings_shortfall, axis=1) "
   ]
  },
  {
   "cell_type": "code",
   "execution_count": 20,
   "metadata": {},
   "outputs": [
    {
     "data": {
      "text/html": [
       "<div>\n",
       "<style scoped>\n",
       "    .dataframe tbody tr th:only-of-type {\n",
       "        vertical-align: middle;\n",
       "    }\n",
       "\n",
       "    .dataframe tbody tr th {\n",
       "        vertical-align: top;\n",
       "    }\n",
       "\n",
       "    .dataframe thead th {\n",
       "        text-align: right;\n",
       "    }\n",
       "</style>\n",
       "<table border=\"1\" class=\"dataframe\">\n",
       "  <thead>\n",
       "    <tr style=\"text-align: right;\">\n",
       "      <th></th>\n",
       "      <th>initial_age</th>\n",
       "      <th>weight</th>\n",
       "      <th>family_kind</th>\n",
       "      <th>race</th>\n",
       "      <th>marital_status</th>\n",
       "      <th>accumulated_capital</th>\n",
       "      <th>annual_contribution</th>\n",
       "      <th>income</th>\n",
       "      <th>new_accumulated_capital</th>\n",
       "      <th>adjusted_income</th>\n",
       "      <th>retirement_savings_shortfall</th>\n",
       "    </tr>\n",
       "  </thead>\n",
       "  <tbody>\n",
       "    <tr>\n",
       "      <th>0</th>\n",
       "      <td>57</td>\n",
       "      <td>616</td>\n",
       "      <td>2</td>\n",
       "      <td>1</td>\n",
       "      <td>3</td>\n",
       "      <td>-153263.200759</td>\n",
       "      <td>0.23</td>\n",
       "      <td>42658.02</td>\n",
       "      <td>-148263.200759</td>\n",
       "      <td>50676.042090</td>\n",
       "      <td>-153263.200759</td>\n",
       "    </tr>\n",
       "    <tr>\n",
       "      <th>1</th>\n",
       "      <td>45</td>\n",
       "      <td>591</td>\n",
       "      <td>1</td>\n",
       "      <td>1</td>\n",
       "      <td>1</td>\n",
       "      <td>161474.307306</td>\n",
       "      <td>0.24</td>\n",
       "      <td>248327.61</td>\n",
       "      <td>166474.307306</td>\n",
       "      <td>295003.387790</td>\n",
       "      <td>0.000000</td>\n",
       "    </tr>\n",
       "    <tr>\n",
       "      <th>2</th>\n",
       "      <td>59</td>\n",
       "      <td>613</td>\n",
       "      <td>1</td>\n",
       "      <td>1</td>\n",
       "      <td>1</td>\n",
       "      <td>14209.331170</td>\n",
       "      <td>0.09</td>\n",
       "      <td>24371.94</td>\n",
       "      <td>19209.331170</td>\n",
       "      <td>28952.901641</td>\n",
       "      <td>0.000000</td>\n",
       "    </tr>\n",
       "    <tr>\n",
       "      <th>3</th>\n",
       "      <td>62</td>\n",
       "      <td>656</td>\n",
       "      <td>1</td>\n",
       "      <td>1</td>\n",
       "      <td>1</td>\n",
       "      <td>-77270.897162</td>\n",
       "      <td>0.17</td>\n",
       "      <td>48788.04</td>\n",
       "      <td>-72270.897162</td>\n",
       "      <td>57958.263616</td>\n",
       "      <td>-77270.897162</td>\n",
       "    </tr>\n",
       "    <tr>\n",
       "      <th>4</th>\n",
       "      <td>45</td>\n",
       "      <td>567</td>\n",
       "      <td>2</td>\n",
       "      <td>1</td>\n",
       "      <td>5</td>\n",
       "      <td>282353.182490</td>\n",
       "      <td>0.22</td>\n",
       "      <td>47808.66</td>\n",
       "      <td>287353.182490</td>\n",
       "      <td>56794.798878</td>\n",
       "      <td>0.000000</td>\n",
       "    </tr>\n",
       "  </tbody>\n",
       "</table>\n",
       "</div>"
      ],
      "text/plain": [
       "   initial_age  weight  family_kind  race  marital_status  \\\n",
       "0           57     616            2     1               3   \n",
       "1           45     591            1     1               1   \n",
       "2           59     613            1     1               1   \n",
       "3           62     656            1     1               1   \n",
       "4           45     567            2     1               5   \n",
       "\n",
       "   accumulated_capital  annual_contribution     income  \\\n",
       "0       -153263.200759                 0.23   42658.02   \n",
       "1        161474.307306                 0.24  248327.61   \n",
       "2         14209.331170                 0.09   24371.94   \n",
       "3        -77270.897162                 0.17   48788.04   \n",
       "4        282353.182490                 0.22   47808.66   \n",
       "\n",
       "   new_accumulated_capital  adjusted_income  retirement_savings_shortfall  \n",
       "0           -148263.200759     50676.042090                -153263.200759  \n",
       "1            166474.307306    295003.387790                      0.000000  \n",
       "2             19209.331170     28952.901641                      0.000000  \n",
       "3            -72270.897162     57958.263616                 -77270.897162  \n",
       "4            287353.182490     56794.798878                      0.000000  "
      ]
     },
     "execution_count": 20,
     "metadata": {},
     "output_type": "execute_result"
    }
   ],
   "source": [
    "data.head()"
   ]
  },
  {
   "cell_type": "code",
   "execution_count": 21,
   "metadata": {},
   "outputs": [],
   "source": [
    "def calculate_weighted_average_shortfall(data, age_cohorts, race_labels):\n",
    "    weighted_sum = 0\n",
    "    total_weight = 0\n",
    "    \n",
    "    for i in range(len(age_cohorts) - 1):\n",
    "        for race in race_labels:\n",
    "            cohort_data = data[(data['initial_age'] >= age_cohorts[i]) & (data['initial_age'] < age_cohorts[i+1]) & (data['race'] == race)]\n",
    "            weighted_sum += (cohort_data['retirement_savings_shortfall'] * cohort_data['weight']).sum()\n",
    "            total_weight += cohort_data['weight'].sum()\n",
    "    \n",
    "    if total_weight != 0:\n",
    "        return weighted_sum / total_weight\n",
    "    else:\n",
    "        return 0.0  # Return 0 if total_weight is zero"
   ]
  },
  {
   "cell_type": "code",
   "execution_count": 22,
   "metadata": {},
   "outputs": [],
   "source": [
    "average_shortfall = calculate_weighted_average_shortfall(data, age_cohorts, race_labels)"
   ]
  },
  {
   "cell_type": "code",
   "execution_count": 23,
   "metadata": {},
   "outputs": [
    {
     "data": {
      "text/plain": [
       "-50362.09916687705"
      ]
     },
     "execution_count": 23,
     "metadata": {},
     "output_type": "execute_result"
    }
   ],
   "source": [
    "average_shortfall"
   ]
  },
  {
   "attachments": {},
   "cell_type": "markdown",
   "metadata": {},
   "source": [
    "##### A negative value for average_shortfall suggests that, on average, individuals have accumulated more savings than what is needed for a comfortable retirement. However, it's important to interpret this value in the context of the specific calculations and assumptions made in the code."
   ]
  },
  {
   "attachments": {},
   "cell_type": "markdown",
   "metadata": {},
   "source": [
    "#### Plot 1: Weighted Average Retirement Savings Shortfall by Race and Age Cohort"
   ]
  },
  {
   "cell_type": "code",
   "execution_count": 24,
   "metadata": {},
   "outputs": [
    {
     "data": {
      "image/png": "[encoded data removed]",
      "text/plain": [
       "<Figure size 1000x600 with 1 Axes>"
      ]
     },
     "metadata": {},
     "output_type": "display_data"
    }
   ],
   "source": [
    "race_labels_list = list(race_labels.values())\n",
    "shortfall_by_cohort_race = np.zeros((len(age_cohorts) - 1, len(race_labels_list)))\n",
    "for i in range(len(age_cohorts) - 1):\n",
    "    for j, race in race_labels.items():\n",
    "        cohort_data = data[(data['initial_age'] >= age_cohorts[i]) & (data['initial_age'] < age_cohorts[i+1]) & (data['race'] == j)]\n",
    "        weighted_shortfall = (cohort_data['retirement_savings_shortfall'] * cohort_data['weight']).sum()\n",
    "        total_weight = cohort_data['weight'].sum()\n",
    "        average_shortfall = weighted_shortfall / total_weight if total_weight != 0 else 0.0\n",
    "        shortfall_by_cohort_race[i, j-1] = average_shortfall\n",
    "\n",
    "fig, ax = plt.subplots(figsize=(10, 6))  # Increase figure size\n",
    "x = np.arange(len(age_cohorts) - 1)\n",
    "width = 0.2\n",
    "age_cohort_labels = [f'{age_cohorts[i]}~{age_cohorts[i+1]}' for i in range(len(age_cohorts) - 1)]\n",
    "for i in range(len(race_labels_list)):\n",
    "    ax.bar(x + (i * width), shortfall_by_cohort_race[:, i], width, label=race_labels_list[i])\n",
    "ax.set_xticks(x)\n",
    "ax.set_xticklabels(age_cohort_labels, rotation=45)\n",
    "ax.set_xlabel('Age Cohort ranges')\n",
    "ax.set_ylabel('Weighted Average Retirement Savings Shortfall')\n",
    "ax.set_title('Weighted Average Retirement Savings Shortfall by Race and Age Cohort')\n",
    "ax.legend(loc='lower left')\n",
    "plt.show()\n"
   ]
  },
  {
   "attachments": {},
   "cell_type": "markdown",
   "metadata": {},
   "source": [
    "#### Plot 2: Impact in Percentage Points of the New Scenario into the Retirement Readiness Rating per Age Cohort"
   ]
  },
  {
   "cell_type": "code",
   "execution_count": 25,
   "metadata": {},
   "outputs": [
    {
     "data": {
      "image/png": "[encoded data removed]",
      "text/plain": [
       "<Figure size 640x480 with 1 Axes>"
      ]
     },
     "metadata": {},
     "output_type": "display_data"
    }
   ],
   "source": [
    "impact_percentage = []\n",
    "for i in range(len(age_cohorts) - 1):\n",
    "    cohort_data = data[(data['initial_age'] >= age_cohorts[i]) & (data['initial_age'] < age_cohorts[i+1])]\n",
    "    old_retirement_ready_count = cohort_data[cohort_data['accumulated_capital'] >= 0].shape[0]\n",
    "    new_retirement_ready_count = cohort_data[cohort_data['new_accumulated_capital'] >= 0].shape[0]\n",
    "    impact = (new_retirement_ready_count - old_retirement_ready_count) / cohort_data.shape[0] * 100\n",
    "    impact_percentage.append(impact)\n",
    "\n",
    "age_cohort_labels = [f'{age_cohorts[i]}-{age_cohorts[i+1]}' for i in range(len(age_cohorts) - 1)]\n",
    "\n",
    "plt.plot(age_cohort_labels, impact_percentage, marker='o')\n",
    "plt.xlabel('Age Cohort')\n",
    "plt.ylabel('Impact in Percentage Points')\n",
    "plt.title('Impact in Percentage Points of the New Scenario into the Retirement Readiness Rating per Age Cohort')\n",
    "plt.xticks(rotation=45)\n",
    "plt.grid(True)\n",
    "plt.show()"
   ]
  },
  {
   "cell_type": "code",
   "execution_count": 26,
   "metadata": {},
   "outputs": [],
   "source": [
    "data.to_csv('new_data.csv')"
   ]
  },
  {
   "cell_type": "code",
   "execution_count": null,
   "metadata": {},
   "outputs": [],
   "source": []
  }
 ],
 "metadata": {
  "kernelspec": {
   "display_name": "base",
   "language": "python",
   "name": "python3"
  },
  "language_info": {
   "codemirror_mode": {
    "name": "ipython",
    "version": 3
   },
   "file_extension": ".py",
   "mimetype": "text/x-python",
   "name": "python",
   "nbconvert_exporter": "python",
   "pygments_lexer": "ipython3",
   "version": "3.10.9"
  },
  "orig_nbformat": 4
 },
 "nbformat": 4,
 "nbformat_minor": 2
}
